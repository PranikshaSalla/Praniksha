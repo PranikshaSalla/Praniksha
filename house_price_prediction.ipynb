{
 "cells": [
  {
   "cell_type": "markdown",
   "id": "9abbe484",
   "metadata": {},
   "source": [
    "### Modified by: Praniksha Salla\n",
    "### Original author: Joseph Lee Wei En"
   ]
  },
  {
   "cell_type": "markdown",
   "id": "457bc0c3",
   "metadata": {},
   "source": [
    "## House Price Prediction using Keras"
   ]
  },
  {
   "cell_type": "code",
   "execution_count": null,
   "id": "62839eb0",
   "metadata": {},
   "outputs": [],
   "source": [
    "import numpy as np\n",
    "from keras.models import Sequential\n",
    "from keras.layers import Dense\n",
    "# Generate dummy data\n",
    "X = np.random.rand(100, 3)\n",
    "y = X @ np.array([3, 4, 5]) + 2\n",
    "# Build model\n",
    "model = Sequential()\n",
    "model.add(Dense(10, input_dim=3, activation='relu'))\n",
    "model.add(Dense(1))\n",
    "model.compile(optimizer='adam', loss='mean_squared_error')\n",
    "# Train model\n",
    "model.fit(X, y, epochs=10, verbose=1)\n",
    "# Predict\n",
    "print('Prediction for first row:', model.predict(X[:1]))"
   ]
  }
 ],
 "metadata": {},
 "nbformat": 4,
 "nbformat_minor": 5
}